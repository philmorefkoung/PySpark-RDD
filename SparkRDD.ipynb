{
 "cells": [
  {
   "cell_type": "code",
   "execution_count": null,
   "metadata": {
    "application/vnd.databricks.v1+cell": {
     "cellMetadata": {
      "byteLimit": 2048000,
      "rowLimit": 10000
     },
     "inputWidgets": {},
     "nuid": "daf00ceb-cc62-4e2d-aabf-084a0bb8aafb",
     "showTitle": false,
     "title": ""
    }
   },
   "outputs": [],
   "source": [
    "rdd = sc.textFile(\"/FileStore/tables/input.txt\")"
   ]
  },
  {
   "cell_type": "code",
   "execution_count": null,
   "metadata": {
    "application/vnd.databricks.v1+cell": {
     "cellMetadata": {
      "byteLimit": 2048000,
      "rowLimit": 10000
     },
     "inputWidgets": {},
     "nuid": "e970457f-8550-40f4-b264-9c1aa8ef9b37",
     "showTitle": false,
     "title": ""
    }
   },
   "outputs": [],
   "source": [
    "# Word count"
   ]
  },
  {
   "cell_type": "code",
   "execution_count": null,
   "metadata": {
    "application/vnd.databricks.v1+cell": {
     "cellMetadata": {
      "byteLimit": 2048000,
      "rowLimit": 10000
     },
     "inputWidgets": {},
     "nuid": "2f4195a6-713d-4cca-9255-3fb670b2e281",
     "showTitle": false,
     "title": ""
    }
   },
   "outputs": [],
   "source": [
    "word_counts = rdd.flatMap(lambda line: line.split(\" \")) \\\n",
    "                 .map(lambda word: word.lower()) \\\n",
    "                 .map(lambda word: (word, 1)) \\\n",
    "                 .reduceByKey(lambda a, b: a + b)"
   ]
  },
  {
   "cell_type": "code",
   "execution_count": null,
   "metadata": {
    "application/vnd.databricks.v1+cell": {
     "cellMetadata": {
      "byteLimit": 2048000,
      "rowLimit": 10000
     },
     "inputWidgets": {},
     "nuid": "8f693d4c-f8af-46cd-b627-f04340e66926",
     "showTitle": false,
     "title": ""
    }
   },
   "outputs": [
    {
     "name": "stdout",
     "output_type": "stream",
     "text": [
      ": 26001\n",
      "of: 15419\n",
      "united: 503\n",
      "mary: 56\n",
      "new: 772\n",
      "york: 116\n",
      "macmillan: 2\n",
      "1921: 3\n",
      "copyright,: 1\n",
      "company.: 11\n",
      "set: 116\n",
      "electrotyped.: 1\n",
      "published: 15\n",
      "1921.: 3\n",
      "norwood: 1\n",
      "cushing: 1\n",
      "co.--berwick: 1\n",
      "smith: 5\n",
      "co.: 1\n",
      "preface: 2\n"
     ]
    }
   ],
   "source": [
    "for word, count in word_counts.take(20):\n",
    "    print(f\"{word}: {count}\")"
   ]
  },
  {
   "cell_type": "code",
   "execution_count": null,
   "metadata": {
    "application/vnd.databricks.v1+cell": {
     "cellMetadata": {
      "byteLimit": 2048000,
      "rowLimit": 10000
     },
     "inputWidgets": {},
     "nuid": "bbf6f013-4e15-4a46-a079-a2fe04602558",
     "showTitle": false,
     "title": ""
    }
   },
   "outputs": [],
   "source": [
    "# Specific Words "
   ]
  },
  {
   "cell_type": "code",
   "execution_count": null,
   "metadata": {
    "application/vnd.databricks.v1+cell": {
     "cellMetadata": {
      "byteLimit": 2048000,
      "rowLimit": 10000
     },
     "inputWidgets": {},
     "nuid": "432debd0-8881-4e92-a486-a613c4c8794c",
     "showTitle": false,
     "title": ""
    }
   },
   "outputs": [
    {
     "name": "stdout",
     "output_type": "stream",
     "text": [
      "america: 131\n",
      "washington: 92\n",
      "president: 237\n"
     ]
    }
   ],
   "source": [
    "specific_words = [\"america\", \"president\", \"washington\"]\n",
    "\n",
    "specific_word_counts = word_counts.filter(lambda x: x[0] in specific_words)\n",
    "\n",
    "swc = word_counts.filter(lambda x: x[0] in specific_words).collect()\n",
    "for word, count in swc:\n",
    "    print(f\"{word}: {count}\")\n"
   ]
  },
  {
   "cell_type": "code",
   "execution_count": null,
   "metadata": {
    "application/vnd.databricks.v1+cell": {
     "cellMetadata": {
      "byteLimit": 2048000,
      "rowLimit": 10000
     },
     "inputWidgets": {},
     "nuid": "c6d57a16-329a-4d6a-b618-18c5a3905c45",
     "showTitle": false,
     "title": ""
    }
   },
   "outputs": [],
   "source": [
    "# Top 10 Words"
   ]
  },
  {
   "cell_type": "code",
   "execution_count": null,
   "metadata": {
    "application/vnd.databricks.v1+cell": {
     "cellMetadata": {
      "byteLimit": 2048000,
      "rowLimit": 10000
     },
     "inputWidgets": {},
     "nuid": "cca70daa-3012-4023-a3b9-8fe164752a39",
     "showTitle": false,
     "title": ""
    }
   },
   "outputs": [],
   "source": [
    "top_10_words = (rdd.flatMap(lambda line: line.split())\n",
    "                .map(lambda word: word.lower())\n",
    "                .map(lambda word: (word, 1))\n",
    "                .reduceByKey(lambda a, b: a + b)\n",
    "                .sortBy(lambda pair: pair[1], ascending=False)\n",
    "                )\n"
   ]
  },
  {
   "cell_type": "code",
   "execution_count": null,
   "metadata": {
    "application/vnd.databricks.v1+cell": {
     "cellMetadata": {
      "byteLimit": 2048000,
      "rowLimit": 10000
     },
     "inputWidgets": {},
     "nuid": "73224950-e666-4c26-9661-0e7ce41f44aa",
     "showTitle": false,
     "title": ""
    }
   },
   "outputs": [
    {
     "name": "stdout",
     "output_type": "stream",
     "text": [
      "[('the', 28958), ('of', 15419), ('and', 11461), ('to', 9120), ('in', 8062), ('a', 6494), ('was', 3870), ('that', 2937), ('with', 2693), ('he', 2665)]\n"
     ]
    }
   ],
   "source": [
    "print(top_10_words)"
   ]
  },
  {
   "cell_type": "code",
   "execution_count": null,
   "metadata": {
    "application/vnd.databricks.v1+cell": {
     "cellMetadata": {
      "byteLimit": 2048000,
      "rowLimit": 10000
     },
     "inputWidgets": {},
     "nuid": "eb2e5803-c2fa-4a7e-8f25-0cd52d908a34",
     "showTitle": false,
     "title": ""
    }
   },
   "outputs": [],
   "source": [
    "rdd = sc.textFile(\"/FileStore/tables/city_temperature.csv\")\n",
    "\n",
    "# Skip header\n",
    "header = rdd.first()\n",
    "rdd = rdd.filter(lambda row: row != header)\n"
   ]
  },
  {
   "cell_type": "code",
   "execution_count": null,
   "metadata": {
    "application/vnd.databricks.v1+cell": {
     "cellMetadata": {
      "byteLimit": 2048000,
      "rowLimit": 10000
     },
     "inputWidgets": {},
     "nuid": "c384a3b9-6e37-433a-b180-fb1e5abe2f49",
     "showTitle": false,
     "title": ""
    }
   },
   "outputs": [],
   "source": [
    "def parse_line(line):\n",
    "    return [x.strip() for x in line.split(\",\")]\n",
    "\n",
    "parsed_rdd = rdd.map(parse_line)\n"
   ]
  },
  {
   "cell_type": "code",
   "execution_count": null,
   "metadata": {
    "application/vnd.databricks.v1+cell": {
     "cellMetadata": {
      "byteLimit": 2048000,
      "rowLimit": 10000
     },
     "inputWidgets": {},
     "nuid": "85cafe47-e6c4-4cb2-bb3d-42d484b2bedf",
     "showTitle": false,
     "title": ""
    }
   },
   "outputs": [],
   "source": [
    "#AvgTemp by Region"
   ]
  },
  {
   "cell_type": "code",
   "execution_count": null,
   "metadata": {
    "application/vnd.databricks.v1+cell": {
     "cellMetadata": {
      "byteLimit": 2048000,
      "rowLimit": 10000
     },
     "inputWidgets": {},
     "nuid": "8848049f-949a-4dcb-bd98-dc7d1e25c235",
     "showTitle": false,
     "title": ""
    }
   },
   "outputs": [
    {
     "name": "stdout",
     "output_type": "stream",
     "text": [
      "Asia: 62.56865184754641\n",
      "Africa: 53.54951656193528\n",
      "Australia/South Pacific: 61.180869127275976\n",
      "Europe: 46.69628524306878\n",
      "Middle East: 68.38455378399779\n",
      "North America: 55.300932625245935\n",
      "South/Central America & Carribean: 62.189438801074665\n"
     ]
    }
   ],
   "source": [
    "region_avg_temp = parsed_rdd.map(lambda x: (x[0], (float(x[7]), 1))) \\\n",
    "                            .reduceByKey(lambda a, b: (a[0] + b[0], a[1] + b[1])) \\\n",
    "                            .mapValues(lambda v: v[0]/v[1]) \\\n",
    "                           \n",
    "\n",
    "region_temp = parsed_rdd.map(lambda x: (x[0], (float(x[7]), 1))) \\\n",
    "                            .reduceByKey(lambda a, b: (a[0] + b[0], a[1] + b[1])) \\\n",
    "                            .mapValues(lambda v: v[0]/v[1]) \\\n",
    "                            .collect()\n",
    "\n",
    "for region, avg_temp in region_temp:\n",
    "    print(f\"{region}: {avg_temp}\")\n"
   ]
  },
  {
   "cell_type": "code",
   "execution_count": null,
   "metadata": {
    "application/vnd.databricks.v1+cell": {
     "cellMetadata": {
      "byteLimit": 2048000,
      "rowLimit": 10000
     },
     "inputWidgets": {},
     "nuid": "8eacad0d-936e-4c74-8c6f-f303c8f68817",
     "showTitle": false,
     "title": ""
    }
   },
   "outputs": [],
   "source": [
    "# AvgTemp by Year in Asian Countries"
   ]
  },
  {
   "cell_type": "code",
   "execution_count": null,
   "metadata": {
    "application/vnd.databricks.v1+cell": {
     "cellMetadata": {
      "byteLimit": 2048000,
      "rowLimit": 10000
     },
     "inputWidgets": {},
     "nuid": "1171e4ef-967c-4a31-8a69-c95e300212bc",
     "showTitle": false,
     "title": ""
    }
   },
   "outputs": [
    {
     "name": "stdout",
     "output_type": "stream",
     "text": [
      "1995, Bangladesh: 42.21424657534248\n",
      "1995, China: 59.772493150684916\n",
      "1995, Hong Kong: 74.12\n",
      "1995, India: 79.12102739726028\n",
      "1995, Indonesia: 49.03205479452054\n",
      "1995, Japan: 55.523652968036615\n",
      "1995, Kazakhstan: 48.61095890410961\n",
      "1995, Laos: 81.52958904109589\n",
      "1995, Malaysia: 80.56465753424658\n",
      "1995, Mongolia: 31.9356164383562\n",
      "1995, Myanmar (Burma): -99.0\n",
      "1995, Nepal: 22.466758241758246\n",
      "1995, North Korea: 51.12876712328768\n",
      "1995, Pakistan: 74.79246575342472\n",
      "1995, Philippines: 80.56739726027399\n",
      "1995, Singapore: 81.75616438356167\n",
      "1995, South Korea: 51.75342465753425\n",
      "1995, Sri Lanka: 77.38821917808224\n",
      "1995, Taiwan: 73.02356164383565\n",
      "1995, Tajikistan: -36.33616438356166\n",
      "1995, Thailand: -99.0\n",
      "1995, Turkmenistan: 63.47095890410957\n",
      "1995, Uzbekistan: 59.08301369863013\n",
      "1995, Vietnam: 74.38904109589043\n",
      "1996, Bangladesh: 38.938524590163944\n",
      "1996, China: 59.08896174863387\n",
      "1996, Hong Kong: 74.97103825136611\n",
      "1996, India: 79.10840163934427\n",
      "1996, Indonesia: 47.78852459016394\n",
      "1996, Japan: 54.4428961748633\n",
      "1996, Kazakhstan: 46.725683060109276\n",
      "1996, Laos: 80.33251366120217\n",
      "1996, Malaysia: 80.56939890710377\n",
      "1996, Mongolia: 26.650546448087407\n",
      "1996, Myanmar (Burma): 79.8439890710383\n",
      "1996, Nepal: 40.13743169398907\n",
      "1996, North Korea: 50.773224043715864\n",
      "1996, Pakistan: 73.85136612021849\n",
      "1996, Philippines: 81.3609289617486\n",
      "1996, Singapore: 81.63715846994529\n",
      "1996, South Korea: 51.634153005464505\n",
      "1996, Sri Lanka: 72.322131147541\n",
      "1996, Taiwan: 73.39945355191254\n",
      "1996, Tajikistan: -76.91803278688523\n",
      "1996, Thailand: 84.32213114754093\n",
      "1996, Turkmenistan: 61.064754098360616\n",
      "1996, Uzbekistan: 57.18196721311473\n",
      "1996, Vietnam: 74.32431693989066\n",
      "1997, Bangladesh: -18.885753424657537\n",
      "1997, China: 58.28257534246572\n",
      "1997, Hong Kong: 75.2531506849315\n",
      "1997, India: 79.58924657534256\n",
      "1997, Indonesia: 35.323287671232904\n",
      "1997, Japan: 55.9392694063927\n",
      "1997, Kazakhstan: 50.07945205479448\n",
      "1997, Kyrgyzstan: 28.993548387096777\n",
      "1997, Laos: 78.57041095890419\n",
      "1997, Malaysia: 80.98027397260277\n",
      "1997, Mongolia: 32.125479452054805\n",
      "1997, Myanmar (Burma): 73.83178082191786\n",
      "1997, Nepal: 14.667945205479445\n",
      "1997, North Korea: 51.569315068493125\n",
      "1997, Pakistan: 71.99972602739726\n",
      "1997, Philippines: 81.78547945205473\n",
      "1997, Singapore: 82.96082191780825\n",
      "1997, South Korea: 52.60246575342461\n",
      "1997, Sri Lanka: 35.03835616438354\n",
      "1997, Taiwan: 73.14767123287673\n",
      "1997, Tajikistan: -23.921643835616432\n",
      "1997, Thailand: 85.98931506849317\n",
      "1997, Turkmenistan: 63.03835616438358\n",
      "1997, Uzbekistan: 51.57232876712333\n",
      "1997, Vietnam: 75.9180821917809\n",
      "1998, Bangladesh: -15.962191780821927\n",
      "1998, China: 59.95024657534245\n",
      "1998, Hong Kong: 74.32520547945212\n",
      "1998, India: 78.21109589041097\n",
      "1998, Indonesia: 25.726849315068502\n",
      "1998, Japan: 55.24493150684933\n",
      "1998, Kazakhstan: 47.20931506849311\n",
      "1998, Kyrgyzstan: 21.77315068493151\n",
      "1998, Laos: 78.63534246575344\n",
      "1998, Malaysia: 16.265205479452035\n",
      "1998, Mongolia: 31.159178082191783\n",
      "1998, Myanmar (Burma): 66.12356164383563\n",
      "1998, Nepal: 45.72630136986298\n",
      "1998, North Korea: 50.40986301369858\n",
      "1998, Pakistan: 72.72260273972607\n",
      "1998, Philippines: 80.68383561643837\n",
      "1998, Singapore: 81.12438356164375\n",
      "1998, South Korea: 53.550958904109606\n",
      "1998, Sri Lanka: 64.39041095890408\n",
      "1998, Taiwan: 72.22767123287669\n",
      "1998, Tajikistan: -62.18794520547945\n",
      "1998, Thailand: 81.83616438356165\n",
      "1998, Turkmenistan: 32.66054794520548\n",
      "1998, Uzbekistan: 36.63753424657538\n",
      "1998, Vietnam: 74.6912328767123\n",
      "1999, Bangladesh: -35.31890410958904\n",
      "1999, China: 60.312657534246604\n",
      "1999, Hong Kong: 75.06027397260277\n",
      "1999, India: 79.70102739726022\n",
      "1999, Indonesia: -1.5498630136986262\n",
      "1999, Japan: 56.159999999999975\n",
      "1999, Kazakhstan: 49.43698630136987\n",
      "1999, Kyrgyzstan: 50.67205479452058\n",
      "1999, Laos: 79.24082191780815\n",
      "1999, Malaysia: 80.75095890410955\n",
      "1999, Mongolia: 30.951780821917797\n",
      "1999, Myanmar (Burma): 46.67095890410958\n",
      "1999, Nepal: 41.64082191780826\n",
      "1999, North Korea: 51.71424657534248\n",
      "1999, Pakistan: 66.0846575342466\n",
      "1999, Philippines: 80.45041095890417\n",
      "1999, Singapore: 81.10849315068494\n",
      "1999, South Korea: 53.36602739726034\n",
      "1999, Sri Lanka: 44.08246575342467\n",
      "1999, Taiwan: 10.913424657534229\n",
      "1999, Tajikistan: 5.138904109589038\n",
      "1999, Thailand: 81.21260273972604\n",
      "1999, Turkmenistan: 63.958904109589\n",
      "1999, Uzbekistan: 59.876712328767105\n",
      "1999, Vietnam: 75.43534246575344\n",
      "2000, Bangladesh: 1.7278688524590098\n",
      "2000, China: 60.07841530054662\n",
      "2000, Hong Kong: 75.23497267759564\n",
      "2000, India: 79.84139344262289\n",
      "2000, Indonesia: -66.67267759562841\n",
      "2000, Japan: 55.88114754098355\n",
      "2000, Kazakhstan: 50.0172131147541\n",
      "2000, Kyrgyzstan: 54.25683060109289\n",
      "2000, Laos: 80.7754098360655\n",
      "2000, Malaysia: 79.80136612021853\n",
      "2000, Mongolia: 30.028688524590155\n",
      "2000, Myanmar (Burma): 75.93169398907108\n",
      "2000, Nepal: 38.75601092896174\n",
      "2000, North Korea: 49.059016393442576\n",
      "2000, Pakistan: 48.29248633879782\n",
      "2000, Philippines: 81.9043715846994\n",
      "2000, Singapore: 81.57404371584707\n",
      "2000, South Korea: 52.37568306010932\n",
      "2000, Sri Lanka: 36.260928961748654\n",
      "2000, Taiwan: 36.049180327868854\n",
      "2000, Tajikistan: -28.606557377049175\n",
      "2000, Thailand: 82.2975409836066\n",
      "2000, Turkmenistan: 64.22377049180325\n",
      "2000, Uzbekistan: 60.78633879781424\n",
      "2000, Vietnam: 74.37814207650271\n",
      "2001, Bangladesh: 34.58931506849317\n",
      "2001, China: 60.30690410958908\n",
      "2001, Hong Kong: 75.57452054794521\n",
      "2001, India: 79.7114383561645\n",
      "2001, Indonesia: -75.10109589041096\n",
      "2001, Japan: 54.89315068493149\n",
      "2001, Kazakhstan: 49.96164383561642\n",
      "2001, Kyrgyzstan: 53.37506849315075\n",
      "2001, Laos: 76.42410958904114\n",
      "2001, Malaysia: 81.98191780821918\n",
      "2001, Mongolia: 29.4131506849315\n",
      "2001, Myanmar (Burma): 81.20876712328769\n",
      "2001, Nepal: 63.28356164383564\n",
      "2001, North Korea: 51.050410958904145\n",
      "2001, Pakistan: 76.02410958904122\n",
      "2001, Philippines: 81.32794520547945\n",
      "2001, Singapore: 81.70849315068493\n",
      "2001, South Korea: 52.02684931506849\n",
      "2001, Sri Lanka: 79.58986301369866\n",
      "2001, Taiwan: 70.88767123287666\n",
      "2001, Tajikistan: 13.010684931506848\n",
      "2001, Thailand: 82.64876712328766\n",
      "2001, Turkmenistan: 64.28739726027396\n",
      "2001, Uzbekistan: 61.3172602739726\n",
      "2001, Vietnam: 74.33890410958904\n",
      "2002, Bangladesh: 7.574246575342467\n",
      "2002, China: 58.87446575342458\n",
      "2002, Hong Kong: 73.9512328767123\n",
      "2002, India: 78.33986301369869\n",
      "2002, Indonesia: -77.773698630137\n",
      "2002, Japan: 54.097260273972594\n",
      "2002, Kazakhstan: 48.57863013698622\n",
      "2002, Kyrgyzstan: 52.15205479452061\n",
      "2002, Laos: 78.44328767123285\n",
      "2002, Malaysia: 80.71863013698632\n",
      "2002, Mongolia: 28.28876712328767\n",
      "2002, Myanmar (Burma): 79.46904109589039\n",
      "2002, Nepal: 58.15315068493153\n",
      "2002, North Korea: 45.046575342465765\n",
      "2002, Pakistan: 71.25356164383564\n",
      "2002, Philippines: 79.57287671232876\n",
      "2002, Singapore: 80.6153424657535\n",
      "2002, South Korea: 51.413972602739754\n",
      "2002, Sri Lanka: 78.40191780821922\n",
      "2002, Taiwan: 73.09643835616444\n",
      "2002, Tajikistan: 58.74082191780823\n",
      "2002, Thailand: 82.7156164383562\n",
      "2002, Turkmenistan: 61.51342465753431\n",
      "2002, Uzbekistan: 59.10986301369866\n",
      "2002, Vietnam: 73.17589041095886\n",
      "2003, Bangladesh: -1.0745205479452054\n",
      "2003, China: 60.47682191780817\n",
      "2003, Hong Kong: 75.74657534246582\n",
      "2003, India: 80.01986301369863\n",
      "2003, Indonesia: -3.5054794520547845\n",
      "2003, Japan: 55.19954337899547\n",
      "2003, Kazakhstan: 48.06547945205484\n",
      "2003, Kyrgyzstan: 52.842191780821885\n",
      "2003, Laos: 80.24712328767123\n",
      "2003, Malaysia: 82.15315068493148\n",
      "2003, Mongolia: 29.238904109589047\n",
      "2003, Myanmar (Burma): 81.22684931506843\n",
      "2003, Nepal: 66.23890410958903\n",
      "2003, North Korea: 50.75972602739723\n",
      "2003, Pakistan: 75.68260273972602\n",
      "2003, Philippines: 80.56575342465754\n",
      "2003, Singapore: 81.58027397260271\n",
      "2003, South Korea: 53.14328767123286\n",
      "2003, Sri Lanka: 81.38547945205484\n",
      "2003, Taiwan: 73.88328767123289\n",
      "2003, Tajikistan: 59.30082191780823\n",
      "2003, Thailand: 84.49232876712318\n",
      "2003, Turkmenistan: 62.26657534246574\n",
      "2003, Uzbekistan: 60.16767123287672\n",
      "2003, Vietnam: 75.97945205479446\n",
      "2004, Bangladesh: -4.695355191256832\n",
      "2004, China: 60.931803278688555\n",
      "2004, Hong Kong: 75.33142076502732\n",
      "2004, India: 80.20416666666657\n",
      "2004, Indonesia: -47.279234972677585\n",
      "2004, Japan: 57.167395264116564\n",
      "2004, Kazakhstan: 50.118852459016445\n",
      "2004, Kyrgyzstan: 54.21612021857921\n",
      "2004, Laos: 80.20819672131145\n",
      "2004, Malaysia: 82.09262295081963\n",
      "2004, Mongolia: 31.490710382513658\n",
      "2004, Myanmar (Burma): 81.22841530054643\n",
      "2004, Nepal: 63.85792349726778\n",
      "2004, North Korea: 48.50928961748635\n",
      "2004, Pakistan: 76.27267759562854\n",
      "2004, Philippines: 82.05765027322398\n",
      "2004, Singapore: 82.23989071038253\n",
      "2004, South Korea: 54.84043715846998\n",
      "2004, Sri Lanka: 81.03633879781414\n",
      "2004, Taiwan: 73.47021857923505\n",
      "2004, Tajikistan: 61.16092896174864\n",
      "2004, Thailand: 84.70273224043717\n",
      "2004, Turkmenistan: 63.78114754098358\n",
      "2004, Uzbekistan: 61.92950819672129\n",
      "2004, Vietnam: 73.64262295081969\n",
      "2005, Bangladesh: 11.475068493150683\n",
      "2005, China: 60.22076712328775\n",
      "2005, Hong Kong: 75.07917808219182\n",
      "2005, India: 79.9172602739726\n",
      "2005, Indonesia: -74.42219178082193\n",
      "2005, Japan: 55.49168949771691\n",
      "2005, Kazakhstan: 49.28794520547944\n",
      "2005, Kyrgyzstan: 53.78958904109593\n",
      "2005, Laos: 80.8813698630137\n",
      "2005, Malaysia: 83.10027397260275\n",
      "2005, Mongolia: 29.940547945205488\n",
      "2005, Myanmar (Burma): 82.3841095890411\n",
      "2005, Nepal: 62.23643835616437\n",
      "2005, North Korea: 34.877808219178064\n",
      "2005, Pakistan: 75.08972602739725\n",
      "2005, Philippines: 82.17479452054793\n",
      "2005, Singapore: 82.51369863013694\n",
      "2005, South Korea: 52.293698630136966\n",
      "2005, Sri Lanka: 81.1827397260274\n",
      "2005, Taiwan: 73.62301369863015\n",
      "2005, Tajikistan: 59.85506849315075\n",
      "2005, Thailand: 85.05506849315066\n",
      "2005, Turkmenistan: 64.3635616438356\n",
      "2005, Uzbekistan: 61.095342465753426\n",
      "2005, Vietnam: 74.3054794520548\n",
      "2006, Bangladesh: 40.75260273972604\n",
      "2006, China: 61.17567123287675\n",
      "2006, Hong Kong: 75.89013698630137\n",
      "2006, India: 80.50561643835623\n",
      "2006, Indonesia: 30.722191780821923\n",
      "2006, Japan: 56.2327853881278\n",
      "2006, Kazakhstan: 50.30739726027397\n",
      "2006, Kyrgyzstan: 54.153698630137\n",
      "2006, Laos: 80.73643835616444\n",
      "2006, Malaysia: 81.65917808219181\n",
      "2006, Mongolia: 30.992328767123286\n",
      "2006, Myanmar (Burma): 78.22684931506846\n",
      "2006, Nepal: -25.073150684931505\n",
      "2006, North Korea: 34.47753424657533\n",
      "2006, Pakistan: 76.03547945205473\n",
      "2006, Philippines: 82.36082191780815\n",
      "2006, Singapore: 82.0432876712329\n",
      "2006, South Korea: 54.021917808219214\n",
      "2006, Sri Lanka: 81.15287671232879\n",
      "2006, Taiwan: 74.38821917808215\n",
      "2006, Tajikistan: 61.33506849315064\n",
      "2006, Thailand: 85.13972602739727\n",
      "2006, Turkmenistan: 64.2076712328767\n",
      "2006, Uzbekistan: 61.55726027397264\n",
      "2006, Vietnam: 75.84904109589034\n",
      "2007, Bangladesh: -1.2486338797814207\n",
      "2007, China: 61.01342465753427\n",
      "2007, Hong Kong: 75.68575342465752\n",
      "2007, India: 78.54630136986289\n",
      "2007, Indonesia: 72.7731506849315\n",
      "2007, Japan: 56.921461187214646\n",
      "2007, Kazakhstan: 48.89835616438354\n",
      "2007, Kyrgyzstan: 52.67232876712328\n",
      "2007, Laos: 80.03205479452052\n",
      "2007, Malaysia: 80.7882191780822\n",
      "2007, Mongolia: 32.97506849315071\n",
      "2007, Myanmar (Burma): 80.65561643835612\n",
      "2007, Nepal: -17.20684931506849\n",
      "2007, North Korea: 28.719726027397282\n",
      "2007, Pakistan: 75.72876712328778\n",
      "2007, Philippines: 82.07013698630142\n",
      "2007, Singapore: 81.16438356164382\n",
      "2007, South Korea: 53.238356164383525\n",
      "2007, Sri Lanka: 80.93013698630136\n",
      "2007, Taiwan: 73.58082191780815\n",
      "2007, Tajikistan: 59.983561643835515\n",
      "2007, Thailand: 83.73452054794524\n",
      "2007, Turkmenistan: 62.83835616438363\n",
      "2007, Uzbekistan: 60.76410958904115\n",
      "2007, Vietnam: 75.39369863013695\n",
      "2008, Bangladesh: -19.79098360655736\n",
      "2008, China: 59.445245901639304\n",
      "2008, Hong Kong: 73.85081967213114\n",
      "2008, India: 79.19084699453552\n",
      "2008, Indonesia: 73.18797814207655\n",
      "2008, Japan: 55.973679417122035\n",
      "2008, Kazakhstan: 49.211748633879765\n",
      "2008, Kyrgyzstan: 53.404918032786846\n",
      "2008, Laos: 78.01338797814199\n",
      "2008, Malaysia: 80.42622950819667\n",
      "2008, Mongolia: 31.381967213114788\n",
      "2008, Myanmar (Burma): 80.34234972677595\n",
      "2008, Nepal: 62.634972677595634\n",
      "2008, North Korea: 51.5325136612022\n",
      "2008, Pakistan: 74.81707650273223\n",
      "2008, Philippines: 80.46530054644809\n",
      "2008, Singapore: 81.06803278688527\n",
      "2008, South Korea: 53.10218579234973\n",
      "2008, Sri Lanka: 79.5385245901639\n",
      "2008, Taiwan: 73.68497267759565\n",
      "2008, Tajikistan: 59.66612021857923\n",
      "2008, Thailand: 79.70710382513666\n",
      "2008, Turkmenistan: 62.41994535519127\n",
      "2008, Uzbekistan: 59.783879781420836\n",
      "2008, Vietnam: 73.28005464480874\n",
      "2009, Bangladesh: 38.05397260273975\n",
      "2009, China: 60.039671232876685\n",
      "2009, Hong Kong: 75.44904109589044\n",
      "2009, India: 80.75979452054787\n",
      "2009, Indonesia: 75.072602739726\n",
      "2009, Japan: 56.47552511415524\n",
      "2009, Kazakhstan: 48.66547945205482\n",
      "2009, Kyrgyzstan: 52.65561643835621\n",
      "2009, Laos: 80.38082191780818\n",
      "2009, Malaysia: 81.41534246575337\n",
      "2009, Mongolia: 29.862739726027403\n",
      "2009, Myanmar (Burma): 81.72904109589038\n",
      "2009, Nepal: 61.73671232876705\n",
      "2009, North Korea: 47.916712328767126\n",
      "2009, Pakistan: 75.57602739726025\n",
      "2009, Philippines: 81.17041095890406\n",
      "2009, Singapore: 81.88082191780819\n",
      "2009, South Korea: 53.32712328767123\n",
      "2009, Sri Lanka: 81.04630136986297\n",
      "2009, Taiwan: 73.79424657534257\n",
      "2009, Tajikistan: 59.632328767123234\n",
      "2009, Thailand: 82.70739726027395\n",
      "2009, Turkmenistan: 62.889041095890384\n",
      "2009, Uzbekistan: 60.59068493150686\n",
      "2009, Vietnam: 75.8783561643835\n",
      "2010, Bangladesh: 47.048181818181774\n",
      "2010, China: 59.66734246575344\n",
      "2010, Hong Kong: 75.44547945205478\n",
      "2010, India: 80.55897260273964\n",
      "2010, Indonesia: 81.78410958904102\n",
      "2010, Japan: 57.44100456621\n",
      "2010, Kazakhstan: 49.124657534246595\n",
      "2010, Kyrgyzstan: 54.137260273972586\n",
      "2010, Laos: 81.95397260273981\n",
      "2010, Malaysia: 83.42794520547947\n",
      "2010, Mongolia: 28.467397260273962\n",
      "2010, Myanmar (Burma): 83.26383561643833\n",
      "2010, Nepal: 60.37890410958902\n",
      "2010, North Korea: 50.29672131147539\n",
      "2010, Pakistan: 76.61904109589027\n",
      "2010, Philippines: 83.27972602739727\n",
      "2010, Singapore: 82.67616438356166\n",
      "2010, South Korea: 53.08575342465748\n",
      "2010, Sri Lanka: 81.56219178082188\n",
      "2010, Taiwan: 73.77342465753425\n",
      "2010, Tajikistan: 61.10493150684931\n",
      "2010, Thailand: 84.15232876712318\n",
      "2010, Turkmenistan: 65.3802739726027\n",
      "2010, Uzbekistan: 62.28465753424662\n",
      "2010, Vietnam: 76.20794520547946\n",
      "2011, China: 59.932986301369965\n",
      "2011, Hong Kong: 74.71041095890412\n",
      "2011, India: 79.6558904109588\n",
      "2011, Indonesia: 83.06246575342472\n",
      "2011, Japan: 56.59652968036533\n",
      "2011, Kazakhstan: 48.47972602739725\n",
      "2011, Kyrgyzstan: 52.423287671232856\n",
      "2011, Laos: 79.9073972602739\n",
      "2011, Malaysia: 83.06739726027394\n",
      "2011, Mongolia: 27.858904109589027\n",
      "2011, Myanmar (Burma): 81.07561643835614\n",
      "2011, Nepal: 66.14575342465753\n",
      "2011, North Korea: 49.57753424657534\n",
      "2011, Pakistan: 75.77917808219175\n",
      "2011, Philippines: 81.82931506849319\n",
      "2011, Singapore: 81.75369863013697\n",
      "2011, South Korea: 52.625205479452084\n",
      "2011, Sri Lanka: 81.48438356164381\n",
      "2011, Taiwan: 72.79397260273966\n",
      "2011, Tajikistan: 60.701095890410954\n",
      "2011, Thailand: 81.58815789473684\n",
      "2011, Turkmenistan: 62.836438356164415\n",
      "2011, Uzbekistan: 60.4649315068493\n",
      "2011, Vietnam: 73.58739726027397\n",
      "2012, China: 59.583989071038275\n",
      "2012, Hong Kong: 75.60000000000002\n",
      "2012, India: 80.66755464480866\n",
      "2012, Indonesia: 82.16912568306019\n",
      "2012, Japan: 56.15127504553733\n",
      "2012, Kazakhstan: 47.86994535519126\n",
      "2012, Kyrgyzstan: 52.36994535519127\n",
      "2012, Laos: 82.05027322404366\n",
      "2012, Malaysia: 82.97950819672128\n",
      "2012, Mongolia: 26.251092896174864\n",
      "2012, Myanmar (Burma): 82.24125683060112\n",
      "2012, Nepal: 63.91693989071042\n",
      "2012, North Korea: 50.684426229508226\n",
      "2012, Pakistan: 75.67937158469948\n",
      "2012, Philippines: 82.40983606557384\n",
      "2012, Singapore: 81.70792349726776\n",
      "2012, South Korea: 52.728142076502735\n",
      "2012, Sri Lanka: 80.53661202185788\n",
      "2012, Taiwan: 73.29535519125689\n",
      "2012, Tajikistan: 58.573224043715896\n",
      "2012, Turkmenistan: 63.44508196721313\n",
      "2012, Uzbekistan: 58.93825136612021\n",
      "2012, Vietnam: 75.25628415300542\n",
      "2013, China: 60.763013698630054\n",
      "2013, Hong Kong: 75.45397260273973\n",
      "2013, India: 80.07671232876717\n",
      "2013, Indonesia: 82.18986301369856\n",
      "2013, Japan: 57.083287671232874\n",
      "2013, Kazakhstan: 51.31808219178086\n",
      "2013, Kyrgyzstan: 54.89643835616442\n",
      "2013, Laos: 81.41479452054793\n",
      "2013, Malaysia: 82.33534246575341\n",
      "2013, Mongolia: 28.99890410958905\n",
      "2013, Myanmar (Burma): 81.60958904109589\n",
      "2013, Nepal: 61.436438356164395\n",
      "2013, North Korea: 51.49534246575345\n",
      "2013, Pakistan: 76.01465753424667\n",
      "2013, Philippines: 82.26301369863006\n",
      "2013, Singapore: 81.92273972602752\n",
      "2013, South Korea: 53.1079452054794\n",
      "2013, Sri Lanka: 75.8391780821918\n",
      "2013, Taiwan: 73.75479452054797\n",
      "2013, Tajikistan: 61.01013698630141\n",
      "2013, Turkmenistan: 65.19150684931505\n",
      "2013, Uzbekistan: 61.28410958904114\n",
      "2013, Vietnam: 73.87232876712328\n",
      "2014, China: 60.89808219178074\n",
      "2014, Hong Kong: 75.64547945205479\n",
      "2014, India: 80.24726027397261\n",
      "2014, Indonesia: 82.46821917808208\n",
      "2014, Japan: 56.16913242009124\n",
      "2014, Kazakhstan: 49.114246575342506\n",
      "2014, Kyrgyzstan: 51.06301369863013\n",
      "2014, Laos: 80.51178082191778\n",
      "2014, Malaysia: 81.93534246575337\n",
      "2014, Mongolia: 30.123013698630157\n",
      "2014, Myanmar (Burma): 81.15424657534237\n",
      "2014, Nepal: 64.13123287671235\n",
      "2014, North Korea: 52.3835616438356\n",
      "2014, Pakistan: 74.94383561643842\n",
      "2014, Philippines: 81.57479452054797\n",
      "2014, Singapore: 81.86465753424655\n",
      "2014, South Korea: 54.16904109589037\n",
      "2014, Sri Lanka: 80.36191780821913\n",
      "2014, Taiwan: 73.52630136986302\n",
      "2014, Tajikistan: 58.881095890410926\n",
      "2014, Turkmenistan: 63.486849315068504\n",
      "2014, Uzbekistan: 58.438630136986326\n",
      "2014, Vietnam: 75.07589041095896\n",
      "2015, China: 60.81060109289617\n",
      "2015, Hong Kong: 76.25382513661204\n",
      "2015, India: 80.45334699453545\n",
      "2015, Indonesia: 81.86502732240442\n",
      "2015, Japan: 56.95455373406195\n",
      "2015, Kazakhstan: 52.49016393442621\n",
      "2015, Kyrgyzstan: 53.92595628415296\n",
      "2015, Laos: 80.62158469945359\n",
      "2015, Malaysia: 81.74617486338795\n",
      "2015, Mongolia: 31.153005464480895\n",
      "2015, Myanmar (Burma): 80.82540983606555\n",
      "2015, Nepal: 63.6770491803279\n",
      "2015, North Korea: 52.27677595628414\n",
      "2015, Pakistan: 75.05068306010928\n",
      "2015, Philippines: 82.02021857923489\n",
      "2015, Singapore: 81.98032786885247\n",
      "2015, South Korea: 54.34480874316938\n",
      "2015, Sri Lanka: 80.61530054644804\n",
      "2015, Taiwan: 73.63087431693987\n",
      "2015, Tajikistan: 60.32786885245902\n",
      "2015, Turkmenistan: 64.15874316939889\n",
      "2015, Uzbekistan: 60.44617486338802\n",
      "2015, Vietnam: 74.75519125683067\n",
      "2016, China: 59.74983606557374\n",
      "2016, Hong Kong: 74.26967213114756\n",
      "2016, India: 80.8341530054644\n",
      "2016, Indonesia: 81.08715846994536\n",
      "2016, Japan: 55.752003642987304\n",
      "2016, Kazakhstan: 50.59398907103824\n",
      "2016, Kyrgyzstan: 52.73196721311477\n",
      "2016, Laos: 79.58688524590168\n",
      "2016, Malaysia: 81.46775956284155\n",
      "2016, Mongolia: 27.95846994535519\n",
      "2016, Myanmar (Burma): 80.9516393442623\n",
      "2016, Nepal: 63.71366120218576\n",
      "2016, North Korea: 50.95054644808742\n",
      "2016, Pakistan: 75.51844262295084\n",
      "2016, Philippines: 81.66202185792353\n",
      "2016, Singapore: 81.30300546448089\n",
      "2016, South Korea: 53.777049180327936\n",
      "2016, Sri Lanka: 80.3959016393443\n",
      "2016, Taiwan: 72.82431693989072\n",
      "2016, Tajikistan: 61.19781420765029\n",
      "2016, Turkmenistan: 63.02213114754095\n",
      "2016, Uzbekistan: 60.38661202185796\n",
      "2016, Vietnam: 75.24426229508201\n",
      "2017, China: 62.01704109589035\n",
      "2017, Hong Kong: 76.6339726027397\n",
      "2017, India: 81.48239726027383\n",
      "2017, Indonesia: 82.98575342465755\n",
      "2017, Japan: 56.643105022831094\n",
      "2017, Kazakhstan: 52.13232876712327\n",
      "2017, Kyrgyzstan: 53.82767123287671\n",
      "2017, Laos: 80.4443835616438\n",
      "2017, Malaysia: 82.25808219178087\n",
      "2017, Mongolia: 31.123561643835593\n",
      "2017, Myanmar (Burma): 82.44876712328762\n",
      "2017, Nepal: 65.55726027397262\n",
      "2017, North Korea: 52.25452054794521\n",
      "2017, Pakistan: 76.25219178082183\n",
      "2017, Philippines: 83.10246575342462\n",
      "2017, Singapore: 81.98821917808219\n",
      "2017, South Korea: 54.13534246575351\n",
      "2017, Sri Lanka: 81.67479452054798\n",
      "2017, Taiwan: 75.04301369863013\n",
      "2017, Tajikistan: 61.80191780821921\n",
      "2017, Turkmenistan: 64.49753424657533\n",
      "2017, Uzbekistan: 60.7260273972603\n",
      "2017, Vietnam: 76.18383561643842\n",
      "2018, China: 59.70624657534246\n",
      "2018, Hong Kong: 74.25534246575347\n",
      "2018, India: 79.8437671232878\n",
      "2018, Indonesia: 80.56904109589043\n",
      "2018, Japan: 56.095251141552446\n",
      "2018, Kazakhstan: 48.4660273972603\n",
      "2018, Kyrgyzstan: 50.33616438356167\n",
      "2018, Laos: 78.41452054794519\n",
      "2018, Malaysia: 79.53424657534245\n",
      "2018, Mongolia: 29.2572602739726\n",
      "2018, Myanmar (Burma): 80.46301369863009\n",
      "2018, Nepal: 63.05643835616434\n",
      "2018, North Korea: 49.63397260273972\n",
      "2018, Pakistan: 75.04849315068493\n",
      "2018, Philippines: 80.58191780821919\n",
      "2018, Singapore: 80.34821917808218\n",
      "2018, South Korea: 52.145205479452024\n",
      "2018, Sri Lanka: 77.70164383561651\n",
      "2018, Taiwan: 73.06767123287668\n",
      "2018, Tajikistan: 60.77479452054794\n",
      "2018, Turkmenistan: 63.19726027397266\n",
      "2018, Uzbekistan: 59.08273972602739\n",
      "2018, Vietnam: 74.40657534246577\n",
      "2019, China: 59.34558904109593\n",
      "2019, Hong Kong: 74.41369863013702\n",
      "2019, India: 78.27410958904122\n",
      "2019, Indonesia: 81.00931506849315\n",
      "2019, Japan: 55.25077625570781\n",
      "2019, Kazakhstan: 50.620000000000005\n",
      "2019, Kyrgyzstan: 52.75506849315074\n",
      "2019, Laos: 79.23698630136978\n",
      "2019, Malaysia: 79.98109589041104\n",
      "2019, Mongolia: 29.26383561643834\n",
      "2019, Myanmar (Burma): 79.66821917808221\n",
      "2019, Nepal: 62.71452054794521\n",
      "2019, North Korea: 50.792602739726064\n",
      "2019, Pakistan: 28.234246575342482\n",
      "2019, Philippines: 80.48164383561645\n",
      "2019, Singapore: 80.32438356164383\n",
      "2019, South Korea: 52.56191780821919\n",
      "2019, Sri Lanka: 78.87123287671236\n",
      "2019, Taiwan: 72.7454794520548\n",
      "2019, Tajikistan: 59.16986301369871\n",
      "2019, Turkmenistan: 62.494794520547934\n",
      "2019, Uzbekistan: 59.355068493150654\n",
      "2019, Vietnam: 74.33342465753418\n",
      "2020, China: 52.202391629297395\n",
      "2020, Hong Kong: 70.60671641791042\n",
      "2020, India: 77.56467289719627\n",
      "2020, Indonesia: 83.18345864661653\n",
      "2020, Japan: 46.46094527363186\n",
      "2020, Kazakhstan: 42.75187969924813\n",
      "2020, Kyrgyzstan: 44.90075187969924\n",
      "2020, Laos: 81.5694029850746\n",
      "2020, Malaysia: 83.80970149253731\n",
      "2020, Mongolia: 17.42164179104478\n",
      "2020, Myanmar (Burma): 82.54552238805971\n",
      "2020, Nepal: 57.9686567164179\n",
      "2020, North Korea: 40.838345864661655\n",
      "2020, Pakistan: 65.9360902255639\n",
      "2020, Philippines: 83.81567164179106\n",
      "2020, Singapore: 83.0589552238806\n",
      "2020, South Korea: 43.53805970149256\n",
      "2020, Sri Lanka: 83.14925373134332\n",
      "2020, Taiwan: 68.64328358208952\n",
      "2020, Tajikistan: 50.42537313432833\n",
      "2020, Turkmenistan: 52.586567164179094\n",
      "2020, Uzbekistan: 51.388059701492544\n",
      "2020, Vietnam: 70.75074626865674\n"
     ]
    }
   ],
   "source": [
    "asia_avg_temp_by_year = (parsed_rdd.filter(lambda x: x[0] == \"Asia\")\n",
    "                         .map(lambda x: ((x[6], x[1]), (float(x[7]), 1)))\n",
    "                         .reduceByKey(lambda a, b: (a[0] + b[0], a[1] + b[1]))\n",
    "                         .mapValues(lambda v: v[0] / v[1])\n",
    "                         .sortBy(lambda x: (x[0][0], x[0][1])))  # This line sorts by year and then by country\n",
    "\n",
    "asia_avg_temp_year = asia_avg_temp_by_year.collect()\n",
    "\n",
    "for (year, country), avg_temp in asia_avg_temp_year:\n",
    "    print(f\"{year}, {country}: {avg_temp}\")"
   ]
  },
  {
   "cell_type": "code",
   "execution_count": null,
   "metadata": {
    "application/vnd.databricks.v1+cell": {
     "cellMetadata": {
      "byteLimit": 2048000,
      "rowLimit": 10000
     },
     "inputWidgets": {},
     "nuid": "e3400421-e640-488d-b478-69e6a946f18f",
     "showTitle": false,
     "title": ""
    }
   },
   "outputs": [],
   "source": [
    "# AvgTemp by Cities in Spain "
   ]
  },
  {
   "cell_type": "code",
   "execution_count": null,
   "metadata": {
    "application/vnd.databricks.v1+cell": {
     "cellMetadata": {
      "byteLimit": 2048000,
      "rowLimit": 10000
     },
     "inputWidgets": {},
     "nuid": "fdd07781-0376-408c-959c-48d6197836c7",
     "showTitle": false,
     "title": ""
    }
   },
   "outputs": [
    {
     "name": "stdout",
     "output_type": "stream",
     "text": [
      "Barcelona: 61.26926397582565\n",
      "Bilbao: 58.69515432764961\n",
      "Madrid: 58.4405352903085\n"
     ]
    }
   ],
   "source": [
    "spain_avg_temp_by_city = parsed_rdd.filter(lambda x: x[1] == \"Spain\") \\\n",
    "                                  .map(lambda x: (x[3], (float(x[7]), 1))) \\\n",
    "                                  .reduceByKey(lambda a, b: (a[0] + b[0], a[1] + b[1])) \\\n",
    "                                  .mapValues(lambda v: v[0]/v[1]) \\\n",
    "\n",
    "\n",
    "spain_avg_temp_city = parsed_rdd.filter(lambda x: x[1] == \"Spain\") \\\n",
    "                                  .map(lambda x: (x[3], (float(x[7]), 1))) \\\n",
    "                                  .reduceByKey(lambda a, b: (a[0] + b[0], a[1] + b[1])) \\\n",
    "                                  .mapValues(lambda v: v[0]/v[1]) \\\n",
    "                                .collect()\n",
    "                                  \n",
    "\n",
    "for city, avg_temp in spain_avg_temp_city:\n",
    "    print(f\"{city}: {avg_temp}\")\n"
   ]
  },
  {
   "cell_type": "code",
   "execution_count": null,
   "metadata": {
    "application/vnd.databricks.v1+cell": {
     "cellMetadata": {
      "byteLimit": 2048000,
      "rowLimit": 10000
     },
     "inputWidgets": {},
     "nuid": "d955ba87-332e-415a-8b6a-2d124076d851",
     "showTitle": false,
     "title": ""
    }
   },
   "outputs": [],
   "source": [
    "city_temp_rdd = sc.textFile(\"/FileStore/tables/city_temperature.csv\")\n",
    "country_list_rdd = sc.textFile(\"/FileStore/tables/country_list.csv\")\n",
    "\n",
    "header_city_temp = city_temp_rdd.first()\n",
    "city_temp_rdd = city_temp_rdd.filter(lambda line: line != header_city_temp)\n",
    "\n",
    "header_country_list = country_list_rdd.first()\n",
    "country_list_rdd = country_list_rdd.filter(lambda line: line != header_country_list)\n",
    "\n"
   ]
  },
  {
   "cell_type": "code",
   "execution_count": null,
   "metadata": {
    "application/vnd.databricks.v1+cell": {
     "cellMetadata": {
      "byteLimit": 2048000,
      "rowLimit": 10000
     },
     "inputWidgets": {},
     "nuid": "31f6d3a3-a035-4aa2-b041-d76d144141bc",
     "showTitle": false,
     "title": ""
    }
   },
   "outputs": [],
   "source": [
    "# Extract (City, (Country, AvgTemperature)) tuples from city_temperature.csv\n",
    "city_temp_tuples = city_temp_rdd.map(lambda line: (line.split(\",\")[3], (line.split(\",\")[1], float(line.split(\",\")[7]))))\n",
    "\n",
    "# Extract (Capital, Country) tuples from country-list.csv\n",
    "country_capital_tuples = country_list_rdd.map(lambda line: (line.split(\",\")[1].replace(\"\\\"\", \"\").strip(), line.split(\",\")[0].replace(\"\\\"\", \"\").strip()))\n",
    "\n"
   ]
  },
  {
   "cell_type": "code",
   "execution_count": null,
   "metadata": {
    "application/vnd.databricks.v1+cell": {
     "cellMetadata": {
      "byteLimit": 2048000,
      "rowLimit": 10000
     },
     "inputWidgets": {},
     "nuid": "f8c1997e-ff06-47d3-b20a-306cf6df4422",
     "showTitle": false,
     "title": ""
    }
   },
   "outputs": [],
   "source": [
    "joined_rdd = country_capital_tuples.join(city_temp_tuples)\n",
    "final_rdd = joined_rdd.map(lambda x: (x[1][0], x[0], x[1][1][1]))\n"
   ]
  },
  {
   "cell_type": "code",
   "execution_count": null,
   "metadata": {
    "application/vnd.databricks.v1+cell": {
     "cellMetadata": {},
     "inputWidgets": {},
     "nuid": "3f959fd2-7a88-4e6c-81d3-32a4a2157d4d",
     "showTitle": false,
     "title": ""
    }
   },
   "outputs": [],
   "source": [
    "# AvgTemp in Capital for All Countries"
   ]
  },
  {
   "cell_type": "code",
   "execution_count": null,
   "metadata": {
    "application/vnd.databricks.v1+cell": {
     "cellMetadata": {
      "byteLimit": 2048000,
      "rowLimit": 10000
     },
     "inputWidgets": {},
     "nuid": "7c42fd28-a9db-495a-a2fc-fdba2599615f",
     "showTitle": false,
     "title": ""
    }
   },
   "outputs": [
    {
     "name": "stdout",
     "output_type": "stream",
     "text": [
      "[('Armenia', 'Yerevan', 53.69699318040915), ('Bangladesh', 'Dhaka', 10.10987951807226), ('Barbados', 'Bridgetown', 77.00251697494743), ('Belgium', 'Brussels', 51.057047269587684), ('Croatia', 'Zagreb', 46.928613059902794), ('Finland', 'Helsinki', 42.24399956831414), ('Gambia', 'Banjul', 59.66582708528577), ('Ireland', 'Dublin', 49.06678178286205), ('Madagascar', 'Antananarivo', 63.445898985538584), ('Mozambique', 'Maputo', 62.78318631669572)]\n"
     ]
    }
   ],
   "source": [
    "rdd_for_avg = final_rdd.map(lambda x: (x[1], (x[2], 1)))\n",
    "sum_counts_rdd = rdd_for_avg.reduceByKey(lambda a, b: (a[0] + b[0], a[1] + b[1]))\n",
    "avg_temp_rdd = sum_counts_rdd.map(lambda x: (x[0], x[1][0] / x[1][1]))\n",
    "result_rdd = country_capital_tuples.join(avg_temp_rdd).map(lambda x: (x[1][0], x[0], x[1][1]))\n",
    "print(result_rdd.take(10))\n",
    "\n"
   ]
  },
  {
   "cell_type": "code",
   "execution_count": null,
   "metadata": {
    "application/vnd.databricks.v1+cell": {
     "cellMetadata": {
      "byteLimit": 2048000,
      "rowLimit": 10000
     },
     "inputWidgets": {},
     "nuid": "c1b86093-15bd-49f7-88a7-022ca9493ec0",
     "showTitle": false,
     "title": ""
    }
   },
   "outputs": [],
   "source": [
    "spain_avg_temp_by_city.saveAsTextFile(\"dbfs:/FileStore/tables/spainavgtemp\")\n",
    "result_rdd.saveAsTextFile(\"dbfs:/FileStore/tables/results\")"
   ]
  },
  {
   "cell_type": "code",
   "execution_count": null,
   "metadata": {
    "application/vnd.databricks.v1+cell": {
     "cellMetadata": {},
     "inputWidgets": {},
     "nuid": "b2b57ea1-8da3-4508-a619-b61ce954229b",
     "showTitle": false,
     "title": ""
    }
   },
   "outputs": [],
   "source": []
  }
 ],
 "metadata": {
  "application/vnd.databricks.v1+notebook": {
   "dashboards": [],
   "language": "python",
   "notebookMetadata": {
    "pythonIndentUnit": 4
   },
   "notebookName": "4371hw1",
   "widgets": {}
  },
  "language_info": {
   "name": "python"
  }
 },
 "nbformat": 4,
 "nbformat_minor": 0
}
