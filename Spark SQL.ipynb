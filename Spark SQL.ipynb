{
 "cells": [
  {
   "cell_type": "code",
   "execution_count": null,
   "metadata": {
    "application/vnd.databricks.v1+cell": {
     "cellMetadata": {
      "byteLimit": 2048000,
      "rowLimit": 10000
     },
     "inputWidgets": {},
     "nuid": "bccce8e4-1a16-4aa1-8f86-e36f863d8711",
     "showTitle": false,
     "title": ""
    }
   },
   "outputs": [],
   "source": [
    "df = spark.read.csv(\"/FileStore/tables/city_temperature.csv\", header=True, inferSchema=True)\n",
    "df2 = spark.read.csv(\"/FileStore/tables/country_list.csv\", header=True, inferSchema=True)\n"
   ]
  },
  {
   "cell_type": "code",
   "execution_count": null,
   "metadata": {
    "application/vnd.databricks.v1+cell": {
     "cellMetadata": {
      "byteLimit": 2048000,
      "rowLimit": 10000
     },
     "inputWidgets": {},
     "nuid": "ca1abc52-2893-4c4f-a6cb-1bc64a4cd4e5",
     "showTitle": false,
     "title": ""
    }
   },
   "outputs": [],
   "source": [
    "df = df.filter(df.AvgTemperature != -99)\n"
   ]
  },
  {
   "cell_type": "code",
   "execution_count": null,
   "metadata": {
    "application/vnd.databricks.v1+cell": {
     "cellMetadata": {
      "byteLimit": 2048000,
      "rowLimit": 10000
     },
     "inputWidgets": {},
     "nuid": "34cdd2d1-46c6-433e-a70d-bf2a4dbad8f1",
     "showTitle": false,
     "title": ""
    }
   },
   "outputs": [],
   "source": [
    "# Create a temporary view\n",
    "df.createOrReplaceTempView(\"city_temperature\")\n",
    "df2.createOrReplaceTempView(\"country_list\")\n"
   ]
  },
  {
   "cell_type": "code",
   "execution_count": null,
   "metadata": {
    "application/vnd.databricks.v1+cell": {
     "cellMetadata": {
      "byteLimit": 2048000,
      "rowLimit": 10000
     },
     "inputWidgets": {},
     "nuid": "51ae5600-9ed9-4158-ad47-89d5ac9a0a4f",
     "showTitle": false,
     "title": ""
    }
   },
   "outputs": [
    {
     "name": "stdout",
     "output_type": "stream",
     "text": [
      "+--------------------+------------------+\n",
      "|              Region|AverageTemperature|\n",
      "+--------------------+------------------+\n",
      "|              Africa| 74.40260231125495|\n",
      "|                Asia|  68.1097225987458|\n",
      "|              Europe| 51.94717142841552|\n",
      "|Australia/South P...| 62.30369323842191|\n",
      "|       North America| 56.15019771858279|\n",
      "|         Middle East| 73.84068255374054|\n",
      "|South/Central Ame...| 72.20202379397276|\n",
      "+--------------------+------------------+\n",
      "\n",
      "+----------+----+------------------+\n",
      "|   Country|Year|AverageTemperature|\n",
      "+----------+----+------------------+\n",
      "|Bangladesh|1995| 79.35017301038064|\n",
      "|Bangladesh|1996| 78.76584507042256|\n",
      "|Bangladesh|1997| 77.15481927710844|\n",
      "|Bangladesh|1998| 79.28705882352948|\n",
      "|Bangladesh|1999| 77.08787878787875|\n",
      "|Bangladesh|2000|  79.0985507246377|\n",
      "|Bangladesh|2001| 78.95656934306568|\n",
      "|Bangladesh|2002| 78.62374429223748|\n",
      "|Bangladesh|2003| 78.82487562189054|\n",
      "|Bangladesh|2004| 78.91494845360823|\n",
      "|Bangladesh|2005| 77.85701754385963|\n",
      "|Bangladesh|2006|  79.3555944055944|\n",
      "|Bangladesh|2007| 78.11386138613861|\n",
      "|Bangladesh|2008| 75.64156626506025|\n",
      "|Bangladesh|2009| 79.02384341637014|\n",
      "|Bangladesh|2010| 80.83544776119399|\n",
      "|     China|1995|59.772493150684916|\n",
      "|     China|1996| 59.08896174863387|\n",
      "|     China|1997| 60.55569760978318|\n",
      "|     China|1998| 61.80055432372503|\n",
      "+----------+----+------------------+\n",
      "only showing top 20 rows\n",
      "\n",
      "+---------+------------------+\n",
      "|     City|AverageTemperature|\n",
      "+---------+------------------+\n",
      "|   Madrid| 58.91773111062988|\n",
      "|   Bilbao|59.173121887854684|\n",
      "|Barcelona| 61.78984408835005|\n",
      "+---------+------------------+\n",
      "\n"
     ]
    }
   ],
   "source": [
    "# Query 1\n",
    "avg_temp_per_region = spark.sql(\"\"\"\n",
    "SELECT Region, AVG(AvgTemperature) as AverageTemperature\n",
    "FROM city_temperature\n",
    "GROUP BY Region\n",
    "\"\"\")\n",
    "avg_temp_per_region.show()\n",
    "\n",
    "# Query 2\n",
    "avg_temp_by_year_country_asia = spark.sql(\"\"\"\n",
    "SELECT Country, Year, AVG(AvgTemperature) as AverageTemperature\n",
    "FROM city_temperature\n",
    "WHERE Region = 'Asia'\n",
    "GROUP BY Country, Year\n",
    "ORDER BY Country, Year\n",
    "\"\"\")\n",
    "avg_temp_by_year_country_asia.show()\n",
    "\n",
    "\n",
    "# Query 3\n",
    "avg_temp_by_city_spain = spark.sql(\"\"\"\n",
    "SELECT City, AVG(AvgTemperature) as AverageTemperature\n",
    "FROM city_temperature\n",
    "WHERE Country = 'Spain'\n",
    "GROUP BY City\n",
    "\"\"\")\n",
    "avg_temp_by_city_spain.show()\n"
   ]
  },
  {
   "cell_type": "code",
   "execution_count": null,
   "metadata": {
    "application/vnd.databricks.v1+cell": {
     "cellMetadata": {},
     "inputWidgets": {},
     "nuid": "e607fb80-a65b-402e-b097-ee27b2594461",
     "showTitle": false,
     "title": ""
    }
   },
   "outputs": [
    {
     "name": "stdout",
     "output_type": "stream",
     "text": [
      "+--------------------+------------+------------------+\n",
      "|             Country|     Capital|AverageTemperature|\n",
      "+--------------------+------------+------------------+\n",
      "|             Namibia|    Windhoek| 69.32590835454769|\n",
      "|               China|     Beijing|   55.202587420158|\n",
      "|          Mauritania|  Nouakchott| 78.11336918000707|\n",
      "|        Sierra Leone|    Freetown| 81.71703655352484|\n",
      "|             Tunisia|       Tunis| 67.08807409012111|\n",
      "|Central African R...|      Bangui| 78.82184718529616|\n",
      "|          Madagascar|Antananarivo| 65.45140391128601|\n",
      "|            Ethiopia| Addis Ababa| 62.95038499230032|\n",
      "|              Uganda|     Kampala| 72.58953292793392|\n",
      "|       Guinea-Bissau|      Bissau| 82.33553368075677|\n",
      "|               Egypt|       Cairo| 72.67604855315933|\n",
      "|         North Korea|   Pyongyang|51.873763964163494|\n",
      "|             Algeria|     Algiers| 64.37253818654507|\n",
      "|             Morocco|       Rabat| 63.38186152345862|\n",
      "|             Senegal|       Dakar| 76.33087262872628|\n",
      "|               Kenya|     Nairobi|   67.490946774996|\n",
      "|                Laos|   Vientiane| 81.05564603691633|\n",
      "|             Burundi|   Bujumbura| 73.68981900452471|\n",
      "|              Malawi|    Lilongwe| 70.03199545626656|\n",
      "|            Pakistan|   Islamabad| 71.49295790416474|\n",
      "+--------------------+------------+------------------+\n",
      "only showing top 20 rows\n",
      "\n"
     ]
    }
   ],
   "source": [
    "avg_temp_capitals = spark.sql(\"\"\"\n",
    "SELECT \n",
    "    ct.Country, \n",
    "    cl.capital AS Capital, \n",
    "    AVG(ct.AvgTemperature) as AverageTemperature\n",
    "FROM \n",
    "    city_temperature AS ct\n",
    "JOIN \n",
    "    country_list AS cl \n",
    "ON \n",
    "    ct.Country = cl.country AND ct.City = cl.capital\n",
    "WHERE \n",
    "    cl.type = 'countryCapital'\n",
    "GROUP BY \n",
    "    ct.Country, cl.capital\n",
    "\"\"\")\n",
    "avg_temp_capitals.show()\n"
   ]
  },
  {
   "cell_type": "code",
   "execution_count": null,
   "metadata": {
    "application/vnd.databricks.v1+cell": {
     "cellMetadata": {
      "byteLimit": 2048000,
      "rowLimit": 10000
     },
     "inputWidgets": {},
     "nuid": "04f61a3e-424e-4d45-adee-1bffbc6dd28e",
     "showTitle": false,
     "title": ""
    }
   },
   "outputs": [
    {
     "name": "stdout",
     "output_type": "stream",
     "text": [
      "+--------------------+------------+------------------+\n",
      "|             country|     capital|AverageTemperature|\n",
      "+--------------------+------------+------------------+\n",
      "|             Namibia|    Windhoek| 69.32590835454769|\n",
      "|               China|     Beijing|   55.202587420158|\n",
      "|          Mauritania|  Nouakchott| 78.11336918000707|\n",
      "|        Sierra Leone|    Freetown| 81.71703655352484|\n",
      "|             Tunisia|       Tunis| 67.08807409012111|\n",
      "|Central African R...|      Bangui| 78.82184718529616|\n",
      "|          Madagascar|Antananarivo| 65.45140391128601|\n",
      "|            Ethiopia| Addis Ababa| 62.95038499230032|\n",
      "|              Uganda|     Kampala| 72.58953292793392|\n",
      "|       Guinea-Bissau|      Bissau| 82.33553368075677|\n",
      "|               Egypt|       Cairo| 72.67604855315933|\n",
      "|         North Korea|   Pyongyang|51.873763964163494|\n",
      "|             Algeria|     Algiers| 64.37253818654507|\n",
      "|             Morocco|       Rabat| 63.38186152345862|\n",
      "|             Senegal|       Dakar| 76.33087262872628|\n",
      "|               Kenya|     Nairobi|   67.490946774996|\n",
      "|                Laos|   Vientiane| 81.05564603691633|\n",
      "|             Burundi|   Bujumbura| 73.68981900452471|\n",
      "|              Malawi|    Lilongwe| 70.03199545626656|\n",
      "|            Pakistan|   Islamabad| 71.49295790416474|\n",
      "+--------------------+------------+------------------+\n",
      "only showing top 20 rows\n",
      "\n"
     ]
    }
   ],
   "source": [
    "# Filter out rows where AvgTemperature is -99\n",
    "df_temperature_filtered = df.filter(df.AvgTemperature != -99)\n",
    "from pyspark.sql.functions import broadcast\n",
    "\n",
    "# Broadcast the country_list DataFrame\n",
    "df_country_list_broadcast = broadcast(df2)\n",
    "from pyspark.sql.functions import col\n",
    "\n",
    "# Join the DataFrames with aliases\n",
    "df_joined = df_temperature_filtered.alias(\"temp\").join(\n",
    "    df_country_list_broadcast.alias(\"country\"),\n",
    "    (col(\"temp.Country\") == col(\"country.country\")) &\n",
    "    (col(\"temp.City\") == col(\"country.capital\")) &\n",
    "    (col(\"country.type\") == \"countryCapital\")\n",
    ")\n",
    "from pyspark.sql import functions as F\n",
    "\n",
    "# Compute the average temperature for each capital using alias\n",
    "df_avg_temp = df_joined.groupBy(\"country.country\", \"country.capital\").agg(F.avg(\"temp.AvgTemperature\").alias(\"AverageTemperature\"))\n",
    "df_avg_temp.show()\n"
   ]
  },
  {
   "cell_type": "code",
   "execution_count": null,
   "metadata": {
    "application/vnd.databricks.v1+cell": {
     "cellMetadata": {
      "byteLimit": 2048000,
      "rowLimit": 10000
     },
     "inputWidgets": {},
     "nuid": "c97377ed-28c1-4928-bf2b-d71b571efbbd",
     "showTitle": false,
     "title": ""
    }
   },
   "outputs": [
    {
     "name": "stdout",
     "output_type": "stream",
     "text": [
      "+--------------------------------------------------------------------------------------+\n",
      "|FormattedOutput                                                                       |\n",
      "+--------------------------------------------------------------------------------------+\n",
      "|Windhoek is the capital of Namibia and its average temperature is 69.40               |\n",
      "|Beijing is the capital of China and its average temperature is 55.14                  |\n",
      "|Nouakchott is the capital of Mauritania and its average temperature is 78.07          |\n",
      "|Freetown is the capital of Sierra Leone and its average temperature is 81.70          |\n",
      "|Tunis is the capital of Tunisia and its average temperature is 67.17                  |\n",
      "|Bangui is the capital of Central African Republic and its average temperature is 78.87|\n",
      "|Antananarivo is the capital of Madagascar and its average temperature is 65.35        |\n",
      "|Addis Ababa is the capital of Ethiopia and its average temperature is 63.14           |\n",
      "|Kampala is the capital of Uganda and its average temperature is 72.64                 |\n",
      "|Bissau is the capital of Guinea-Bissau and its average temperature is 82.21           |\n",
      "|Cairo is the capital of Egypt and its average temperature is 72.95                    |\n",
      "|Pyongyang is the capital of North Korea and its average temperature is 51.86          |\n",
      "|Algiers is the capital of Algeria and its average temperature is 64.39                |\n",
      "|Rabat is the capital of Morocco and its average temperature is 63.25                  |\n",
      "|Dakar is the capital of Senegal and its average temperature is 76.39                  |\n",
      "|Nairobi is the capital of Kenya and its average temperature is 67.49                  |\n",
      "|Vientiane is the capital of Laos and its average temperature is 80.91                 |\n",
      "|Bujumbura is the capital of Burundi and its average temperature is 63.21              |\n",
      "|Lilongwe is the capital of Malawi and its average temperature is 70.30                |\n",
      "|Dhaka is the capital of Bangladesh and its average temperature is 78.79               |\n",
      "+--------------------------------------------------------------------------------------+\n",
      "only showing top 20 rows\n",
      "\n"
     ]
    }
   ],
   "source": [
    "df_temperature_filtered = df\n",
    "df_country_list = df2\n",
    "from pyspark.sql.functions import udf\n",
    "from pyspark.sql.types import BooleanType\n",
    "\n",
    "def filter_years(year):\n",
    "    return year >= 2000\n",
    "\n",
    "filter_years_udf = udf(filter_years, BooleanType())\n",
    "\n",
    "df_temperature_filtered = df_temperature_filtered.filter(filter_years_udf(df_temperature_filtered.Year))\n",
    "from pyspark.sql.functions import broadcast\n",
    "\n",
    "df_country_list_broadcast = broadcast(df_country_list)\n",
    "from pyspark.sql.functions import col\n",
    "\n",
    "df_joined = df_temperature_filtered.alias(\"temp\").join(\n",
    "    df_country_list_broadcast.alias(\"country\"),\n",
    "    (col(\"temp.Country\") == col(\"country.country\")) &\n",
    "    (col(\"temp.City\") == col(\"country.capital\")) &\n",
    "    (col(\"country.type\") == \"countryCapital\")\n",
    ")\n",
    "from pyspark.sql import functions as F\n",
    "\n",
    "df_avg_temp = df_joined.groupBy(\"country.country\", \"country.capital\").agg(F.avg(\"temp.AvgTemperature\").alias(\"AverageTemperature\"))\n",
    "def format_output(capital, country, avg_temp):\n",
    "    return f\"{capital} is the capital of {country} and its average temperature is {avg_temp:.2f}\"\n",
    "\n",
    "format_output_udf = udf(format_output)\n",
    "\n",
    "df_final_output = df_avg_temp.withColumn(\"FormattedOutput\", format_output_udf(col(\"country.capital\"), col(\"country.country\"), col(\"AverageTemperature\")))\n",
    "df_final_output.select(\"FormattedOutput\").show(truncate=False)\n"
   ]
  },
  {
   "cell_type": "code",
   "execution_count": null,
   "metadata": {
    "application/vnd.databricks.v1+cell": {
     "cellMetadata": {},
     "inputWidgets": {},
     "nuid": "593a7b33-ce00-4fe0-9c19-bb3d8db56474",
     "showTitle": false,
     "title": ""
    }
   },
   "outputs": [],
   "source": []
  }
 ],
 "metadata": {
  "application/vnd.databricks.v1+notebook": {
   "dashboards": [],
   "language": "python",
   "notebookMetadata": {
    "pythonIndentUnit": 4
   },
   "notebookName": "CS4371-Homework4-Koung,Philmore",
   "widgets": {}
  },
  "language_info": {
   "name": "python"
  }
 },
 "nbformat": 4,
 "nbformat_minor": 0
}
